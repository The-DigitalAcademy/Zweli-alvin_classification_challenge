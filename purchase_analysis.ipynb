{
 "cells": [
  {
   "cell_type": "code",
   "execution_count": 1,
   "metadata": {},
   "outputs": [],
   "source": [
    "\n",
    "# Dataframe and Plotting libraries\n",
    "import pandas as pd\n",
    "import numpy as np\n",
    "import seaborn as sns\n",
    "import matplotlib.pyplot as plt\n",
    "\n",
    "# Machine Learning libraries\n",
    "from sklearn.preprocessing import StandardScaler\n",
    "from sklearn.tree import DecisionTreeClassifier\n",
    "from sklearn.metrics import accuracy_score, classification_report\n",
    "from xgboost import XGBClassifier, XGBRegressor, XGBRFRegressor\n",
    "from sklearn.model_selection import train_test_split\n",
    "from sklearn.metrics import log_loss\n",
    "\n",
    "\n",
    "pd.set_option('display.max_columns', None)"
   ]
  },
  {
   "cell_type": "markdown",
   "metadata": {},
   "source": [
    "# LOAD the Dataset"
   ]
  },
  {
   "cell_type": "code",
   "execution_count": 44,
   "metadata": {},
   "outputs": [],
   "source": [
    "# Load the files into a Pandas Dataframe\n",
    "train = pd.read_csv('Train.csv')\n",
    "test = pd.read_csv('Test.csv')"
   ]
  },
  {
   "cell_type": "code",
   "execution_count": 3,
   "metadata": {},
   "outputs": [
    {
     "name": "stdout",
     "output_type": "stream",
     "text": [
      "Train data shape : (373, 12)\n",
      "Test data shape : (558, 11)\n"
     ]
    }
   ],
   "source": [
    "# print the shape of the datasets.\n",
    "print('Train data shape :', train.shape)\n",
    "print('Test data shape :', test.shape)"
   ]
  },
  {
   "cell_type": "code",
   "execution_count": 46,
   "metadata": {},
   "outputs": [
    {
     "data": {
      "text/html": [
       "<div>\n",
       "<style scoped>\n",
       "    .dataframe tbody tr th:only-of-type {\n",
       "        vertical-align: middle;\n",
       "    }\n",
       "\n",
       "    .dataframe tbody tr th {\n",
       "        vertical-align: top;\n",
       "    }\n",
       "\n",
       "    .dataframe thead th {\n",
       "        text-align: right;\n",
       "    }\n",
       "</style>\n",
       "<table border=\"1\" class=\"dataframe\">\n",
       "  <thead>\n",
       "    <tr style=\"text-align: right;\">\n",
       "      <th></th>\n",
       "      <th>MERCHANT_CATEGORIZED_AT</th>\n",
       "      <th>MERCHANT_NAME</th>\n",
       "      <th>MERCHANT_CATEGORIZED_AS</th>\n",
       "      <th>PURCHASE_VALUE</th>\n",
       "      <th>PURCHASED_AT</th>\n",
       "      <th>IS_PURCHASE_PAID_VIA_MPESA_SEND_MONEY</th>\n",
       "      <th>USER_AGE</th>\n",
       "      <th>USER_GENDER</th>\n",
       "      <th>USER_HOUSEHOLD</th>\n",
       "      <th>USER_INCOME</th>\n",
       "      <th>USER_ID</th>\n",
       "      <th>Transaction_ID</th>\n",
       "    </tr>\n",
       "  </thead>\n",
       "  <tbody>\n",
       "    <tr>\n",
       "      <th>0</th>\n",
       "      <td>2022-05-04 10:25:50.588042+00</td>\n",
       "      <td>UONSDA CHURCH  MOGERE MWAYO TITHE</td>\n",
       "      <td>Rent / Mortgage</td>\n",
       "      <td>1700</td>\n",
       "      <td>2022-05-04 13:56:00+00</td>\n",
       "      <td>False</td>\n",
       "      <td>NaN</td>\n",
       "      <td>Male</td>\n",
       "      <td>3</td>\n",
       "      <td>10000</td>\n",
       "      <td>ID_ZX4DCF4K</td>\n",
       "      <td>ID_04mk78fa</td>\n",
       "    </tr>\n",
       "    <tr>\n",
       "      <th>1</th>\n",
       "      <td>2021-10-25 16:18:38.586837+00</td>\n",
       "      <td>PARK N GO</td>\n",
       "      <td>Transport &amp; Fuel</td>\n",
       "      <td>100</td>\n",
       "      <td>2021-10-24 14:12:00+00</td>\n",
       "      <td>False</td>\n",
       "      <td>25.0</td>\n",
       "      <td>Female</td>\n",
       "      <td>4</td>\n",
       "      <td>90000</td>\n",
       "      <td>ID_U9WZMGJZ</td>\n",
       "      <td>ID_04xkfb07</td>\n",
       "    </tr>\n",
       "    <tr>\n",
       "      <th>2</th>\n",
       "      <td>2022-05-20 14:17:30.917297+00</td>\n",
       "      <td>SAFARICOM OFFERS  TUNUKIWA</td>\n",
       "      <td>Data &amp; WiFi</td>\n",
       "      <td>20</td>\n",
       "      <td>2022-05-27 12:46:00+00</td>\n",
       "      <td>False</td>\n",
       "      <td>NaN</td>\n",
       "      <td>Male</td>\n",
       "      <td>3</td>\n",
       "      <td>10000</td>\n",
       "      <td>ID_ZX4DCF4K</td>\n",
       "      <td>ID_051urwuw</td>\n",
       "    </tr>\n",
       "    <tr>\n",
       "      <th>3</th>\n",
       "      <td>2022-04-12 15:59:14.139347+00</td>\n",
       "      <td>ZILLIONS CREDIT LIMITED</td>\n",
       "      <td>Loan Repayment</td>\n",
       "      <td>3800</td>\n",
       "      <td>2022-02-07 12:16:00+00</td>\n",
       "      <td>False</td>\n",
       "      <td>NaN</td>\n",
       "      <td>Male</td>\n",
       "      <td>5</td>\n",
       "      <td>252000</td>\n",
       "      <td>ID_3JA0MAFB</td>\n",
       "      <td>ID_0e1om7rz</td>\n",
       "    </tr>\n",
       "    <tr>\n",
       "      <th>4</th>\n",
       "      <td>2022-05-04 10:24:26.709045+00</td>\n",
       "      <td>MICHAEL MUSEMBI</td>\n",
       "      <td>Bills &amp; Fees</td>\n",
       "      <td>60</td>\n",
       "      <td>2022-05-04 15:28:00+00</td>\n",
       "      <td>False</td>\n",
       "      <td>NaN</td>\n",
       "      <td>Male</td>\n",
       "      <td>3</td>\n",
       "      <td>10000</td>\n",
       "      <td>ID_ZX4DCF4K</td>\n",
       "      <td>ID_0kfcoawb</td>\n",
       "    </tr>\n",
       "    <tr>\n",
       "      <th>...</th>\n",
       "      <td>...</td>\n",
       "      <td>...</td>\n",
       "      <td>...</td>\n",
       "      <td>...</td>\n",
       "      <td>...</td>\n",
       "      <td>...</td>\n",
       "      <td>...</td>\n",
       "      <td>...</td>\n",
       "      <td>...</td>\n",
       "      <td>...</td>\n",
       "      <td>...</td>\n",
       "      <td>...</td>\n",
       "    </tr>\n",
       "    <tr>\n",
       "      <th>368</th>\n",
       "      <td>2021-08-06 11:28:03.723042+00</td>\n",
       "      <td>ONESMUS  GAKURU</td>\n",
       "      <td>Miscellaneous</td>\n",
       "      <td>500</td>\n",
       "      <td>2021-08-26 13:38:00+00</td>\n",
       "      <td>True</td>\n",
       "      <td>27.0</td>\n",
       "      <td>Female</td>\n",
       "      <td>2</td>\n",
       "      <td>8000</td>\n",
       "      <td>ID_L8QMYB09</td>\n",
       "      <td>ID_zr5x8yjs</td>\n",
       "    </tr>\n",
       "    <tr>\n",
       "      <th>369</th>\n",
       "      <td>2022-04-12 15:57:05.758311+00</td>\n",
       "      <td>GLADWELL MBURU</td>\n",
       "      <td>Miscellaneous</td>\n",
       "      <td>400</td>\n",
       "      <td>2022-04-03 08:39:00+00</td>\n",
       "      <td>True</td>\n",
       "      <td>NaN</td>\n",
       "      <td>Male</td>\n",
       "      <td>5</td>\n",
       "      <td>750000</td>\n",
       "      <td>ID_D8FOVVBB</td>\n",
       "      <td>ID_zty81sq8</td>\n",
       "    </tr>\n",
       "    <tr>\n",
       "      <th>370</th>\n",
       "      <td>2021-12-01 08:33:13.82067+00</td>\n",
       "      <td>SAFARICOM LIMITED</td>\n",
       "      <td>Data &amp; WiFi</td>\n",
       "      <td>500</td>\n",
       "      <td>2021-01-15 15:40:00+00</td>\n",
       "      <td>False</td>\n",
       "      <td>NaN</td>\n",
       "      <td>Male</td>\n",
       "      <td>3</td>\n",
       "      <td>200000</td>\n",
       "      <td>ID_ECX9BS4A</td>\n",
       "      <td>ID_zx5ajeqe</td>\n",
       "    </tr>\n",
       "    <tr>\n",
       "      <th>371</th>\n",
       "      <td>2021-10-05 12:29:13.14963+00</td>\n",
       "      <td>EQUITY PAYBILL ACCOUNT</td>\n",
       "      <td>Bills &amp; Fees</td>\n",
       "      <td>14000</td>\n",
       "      <td>2021-10-08 10:33:00+00</td>\n",
       "      <td>True</td>\n",
       "      <td>25.0</td>\n",
       "      <td>Female</td>\n",
       "      <td>4</td>\n",
       "      <td>90000</td>\n",
       "      <td>ID_U9WZMGJZ</td>\n",
       "      <td>ID_zx9hnvvb</td>\n",
       "    </tr>\n",
       "    <tr>\n",
       "      <th>372</th>\n",
       "      <td>2022-04-12 15:59:14.139347+00</td>\n",
       "      <td>RUBIS ENJOY UN AVENUE</td>\n",
       "      <td>Going out</td>\n",
       "      <td>60</td>\n",
       "      <td>2022-03-22 04:06:00+00</td>\n",
       "      <td>False</td>\n",
       "      <td>NaN</td>\n",
       "      <td>Male</td>\n",
       "      <td>5</td>\n",
       "      <td>252000</td>\n",
       "      <td>ID_3JA0MAFB</td>\n",
       "      <td>ID_zztijwt3</td>\n",
       "    </tr>\n",
       "  </tbody>\n",
       "</table>\n",
       "<p>373 rows × 12 columns</p>\n",
       "</div>"
      ],
      "text/plain": [
       "           MERCHANT_CATEGORIZED_AT                      MERCHANT_NAME  \\\n",
       "0    2022-05-04 10:25:50.588042+00  UONSDA CHURCH  MOGERE MWAYO TITHE   \n",
       "1    2021-10-25 16:18:38.586837+00                          PARK N GO   \n",
       "2    2022-05-20 14:17:30.917297+00         SAFARICOM OFFERS  TUNUKIWA   \n",
       "3    2022-04-12 15:59:14.139347+00            ZILLIONS CREDIT LIMITED   \n",
       "4    2022-05-04 10:24:26.709045+00                    MICHAEL MUSEMBI   \n",
       "..                             ...                                ...   \n",
       "368  2021-08-06 11:28:03.723042+00                    ONESMUS  GAKURU   \n",
       "369  2022-04-12 15:57:05.758311+00                     GLADWELL MBURU   \n",
       "370   2021-12-01 08:33:13.82067+00                  SAFARICOM LIMITED   \n",
       "371   2021-10-05 12:29:13.14963+00             EQUITY PAYBILL ACCOUNT   \n",
       "372  2022-04-12 15:59:14.139347+00              RUBIS ENJOY UN AVENUE   \n",
       "\n",
       "    MERCHANT_CATEGORIZED_AS  PURCHASE_VALUE            PURCHASED_AT  \\\n",
       "0           Rent / Mortgage            1700  2022-05-04 13:56:00+00   \n",
       "1          Transport & Fuel             100  2021-10-24 14:12:00+00   \n",
       "2               Data & WiFi              20  2022-05-27 12:46:00+00   \n",
       "3            Loan Repayment            3800  2022-02-07 12:16:00+00   \n",
       "4              Bills & Fees              60  2022-05-04 15:28:00+00   \n",
       "..                      ...             ...                     ...   \n",
       "368           Miscellaneous             500  2021-08-26 13:38:00+00   \n",
       "369           Miscellaneous             400  2022-04-03 08:39:00+00   \n",
       "370             Data & WiFi             500  2021-01-15 15:40:00+00   \n",
       "371            Bills & Fees           14000  2021-10-08 10:33:00+00   \n",
       "372               Going out              60  2022-03-22 04:06:00+00   \n",
       "\n",
       "     IS_PURCHASE_PAID_VIA_MPESA_SEND_MONEY  USER_AGE USER_GENDER  \\\n",
       "0                                    False       NaN        Male   \n",
       "1                                    False      25.0      Female   \n",
       "2                                    False       NaN        Male   \n",
       "3                                    False       NaN        Male   \n",
       "4                                    False       NaN        Male   \n",
       "..                                     ...       ...         ...   \n",
       "368                                   True      27.0      Female   \n",
       "369                                   True       NaN        Male   \n",
       "370                                  False       NaN        Male   \n",
       "371                                   True      25.0      Female   \n",
       "372                                  False       NaN        Male   \n",
       "\n",
       "     USER_HOUSEHOLD  USER_INCOME      USER_ID Transaction_ID  \n",
       "0                 3        10000  ID_ZX4DCF4K    ID_04mk78fa  \n",
       "1                 4        90000  ID_U9WZMGJZ    ID_04xkfb07  \n",
       "2                 3        10000  ID_ZX4DCF4K    ID_051urwuw  \n",
       "3                 5       252000  ID_3JA0MAFB    ID_0e1om7rz  \n",
       "4                 3        10000  ID_ZX4DCF4K    ID_0kfcoawb  \n",
       "..              ...          ...          ...            ...  \n",
       "368               2         8000  ID_L8QMYB09    ID_zr5x8yjs  \n",
       "369               5       750000  ID_D8FOVVBB    ID_zty81sq8  \n",
       "370               3       200000  ID_ECX9BS4A    ID_zx5ajeqe  \n",
       "371               4        90000  ID_U9WZMGJZ    ID_zx9hnvvb  \n",
       "372               5       252000  ID_3JA0MAFB    ID_zztijwt3  \n",
       "\n",
       "[373 rows x 12 columns]"
      ]
     },
     "execution_count": 46,
     "metadata": {},
     "output_type": "execute_result"
    }
   ],
   "source": [
    "train"
   ]
  },
  {
   "cell_type": "code",
   "execution_count": 5,
   "metadata": {},
   "outputs": [
    {
     "data": {
      "text/plain": [
       "<BarContainer object of 373 artists>"
      ]
     },
     "execution_count": 5,
     "metadata": {},
     "output_type": "execute_result"
    },
    {
     "data": {
      "image/png": "[encoded data removed]",
      "text/plain": [
       "<Figure size 800x600 with 1 Axes>"
      ]
     },
     "metadata": {},
     "output_type": "display_data"
    }
   ],
   "source": [
    "# Bar graph of the purchase_value vs the target\n",
    "plt.figure(dpi=200, figsize=(4,3))\n",
    "plt.xticks(rotation=90)\n",
    "plt.bar(data=train, x='MERCHANT_CATEGORIZED_AS', height='PURCHASE_VALUE')"
   ]
  },
  {
   "cell_type": "code",
   "execution_count": 6,
   "metadata": {},
   "outputs": [
    {
     "name": "stdout",
     "output_type": "stream",
     "text": [
      "Train data:  {'MERCHANT_CATEGORIZED_AS': {'Bills & Fees': 0, 'Data & WiFi': 1, 'Education': 2, 'Emergency fund': 3, 'Family & Friends': 4, 'Going out': 5, 'Groceries': 6, 'Health': 7, 'Loan Repayment': 8, 'Miscellaneous': 9, 'Rent / Mortgage': 10, 'Shopping': 11, 'Transport & Fuel': 12}}\n"
     ]
    }
   ],
   "source": [
    "labels_train = train['MERCHANT_CATEGORIZED_AS'].astype('category').cat.categories.tolist()\n",
    "replace_map_train = {'MERCHANT_CATEGORIZED_AS' : {k: v for k,v in zip(labels_train,list(range(0,len(labels_train)+1)))}}\n",
    "print(\"Train data: \", replace_map_train)"
   ]
  },
  {
   "cell_type": "code",
   "execution_count": 7,
   "metadata": {},
   "outputs": [],
   "source": [
    "train_data_corr = train.copy()"
   ]
  },
  {
   "cell_type": "code",
   "execution_count": 8,
   "metadata": {},
   "outputs": [
    {
     "name": "stdout",
     "output_type": "stream",
     "text": [
      "Missing values for Train: MERCHANT_CATEGORIZED_AT                    0\n",
      "MERCHANT_NAME                              0\n",
      "MERCHANT_CATEGORIZED_AS                    0\n",
      "PURCHASE_VALUE                             0\n",
      "PURCHASED_AT                               0\n",
      "IS_PURCHASE_PAID_VIA_MPESA_SEND_MONEY      0\n",
      "USER_AGE                                 312\n",
      "USER_GENDER                                6\n",
      "USER_HOUSEHOLD                             0\n",
      "USER_INCOME                                0\n",
      "USER_ID                                    0\n",
      "Transaction_ID                             0\n",
      "dtype: int64\n",
      "\n",
      "Missing values for Test: MERCHANT_CATEGORIZED_AT                    0\n",
      "MERCHANT_NAME                              0\n",
      "PURCHASE_VALUE                             0\n",
      "PURCHASED_AT                               0\n",
      "IS_PURCHASE_PAID_VIA_MPESA_SEND_MONEY      0\n",
      "USER_AGE                                 473\n",
      "USER_GENDER                                5\n",
      "USER_HOUSEHOLD                             0\n",
      "USER_INCOME                                0\n",
      "USER_ID                                    0\n",
      "Transaction_ID                             0\n",
      "dtype: int64\n"
     ]
    }
   ],
   "source": [
    "# We can also use the .isnull() method to check for empty values\n",
    "print('Missing values for Train:', train.isnull().sum())\n",
    "print('')\n",
    "print('Missing values for Test:', test.isnull().sum())"
   ]
  },
  {
   "cell_type": "code",
   "execution_count": 9,
   "metadata": {},
   "outputs": [
    {
     "data": {
      "text/html": [
       "<div>\n",
       "<style scoped>\n",
       "    .dataframe tbody tr th:only-of-type {\n",
       "        vertical-align: middle;\n",
       "    }\n",
       "\n",
       "    .dataframe tbody tr th {\n",
       "        vertical-align: top;\n",
       "    }\n",
       "\n",
       "    .dataframe thead th {\n",
       "        text-align: right;\n",
       "    }\n",
       "</style>\n",
       "<table border=\"1\" class=\"dataframe\">\n",
       "  <thead>\n",
       "    <tr style=\"text-align: right;\">\n",
       "      <th></th>\n",
       "      <th>MERCHANT_CATEGORIZED_AT</th>\n",
       "      <th>MERCHANT_NAME</th>\n",
       "      <th>MERCHANT_CATEGORIZED_AS</th>\n",
       "      <th>PURCHASE_VALUE</th>\n",
       "      <th>PURCHASED_AT</th>\n",
       "      <th>IS_PURCHASE_PAID_VIA_MPESA_SEND_MONEY</th>\n",
       "      <th>USER_AGE</th>\n",
       "      <th>USER_GENDER</th>\n",
       "      <th>USER_HOUSEHOLD</th>\n",
       "      <th>USER_INCOME</th>\n",
       "      <th>USER_ID</th>\n",
       "      <th>Transaction_ID</th>\n",
       "    </tr>\n",
       "  </thead>\n",
       "  <tbody>\n",
       "    <tr>\n",
       "      <th>35</th>\n",
       "      <td>2021-11-30 10:51:36.702996+00</td>\n",
       "      <td>IDEAL APPLIANCES</td>\n",
       "      <td>Bills &amp; Fees</td>\n",
       "      <td>24995</td>\n",
       "      <td>2021-05-06 14:14:00+00</td>\n",
       "      <td>False</td>\n",
       "      <td>NaN</td>\n",
       "      <td>NaN</td>\n",
       "      <td>1</td>\n",
       "      <td>10000</td>\n",
       "      <td>ID_R4T8Q46J</td>\n",
       "      <td>ID_3xlptxy6</td>\n",
       "    </tr>\n",
       "    <tr>\n",
       "      <th>137</th>\n",
       "      <td>2021-11-30 10:52:38.553994+00</td>\n",
       "      <td>QUICK MART</td>\n",
       "      <td>Shopping</td>\n",
       "      <td>3298</td>\n",
       "      <td>2021-06-19 15:05:00+00</td>\n",
       "      <td>False</td>\n",
       "      <td>NaN</td>\n",
       "      <td>NaN</td>\n",
       "      <td>1</td>\n",
       "      <td>10000</td>\n",
       "      <td>ID_R4T8Q46J</td>\n",
       "      <td>ID_dhp3d403</td>\n",
       "    </tr>\n",
       "    <tr>\n",
       "      <th>280</th>\n",
       "      <td>2021-08-06 11:28:03.723042+00</td>\n",
       "      <td>EQUITY PAYBILL</td>\n",
       "      <td>Shopping</td>\n",
       "      <td>4000</td>\n",
       "      <td>2021-07-25 10:54:00+00</td>\n",
       "      <td>True</td>\n",
       "      <td>NaN</td>\n",
       "      <td>NaN</td>\n",
       "      <td>1</td>\n",
       "      <td>10000</td>\n",
       "      <td>ID_R4T8Q46J</td>\n",
       "      <td>ID_qvgzrt0r</td>\n",
       "    </tr>\n",
       "    <tr>\n",
       "      <th>309</th>\n",
       "      <td>2021-11-30 10:52:38.553994+00</td>\n",
       "      <td>NAOMI  WANJOHI</td>\n",
       "      <td>Family &amp; Friends</td>\n",
       "      <td>1028</td>\n",
       "      <td>2021-05-13 14:28:00+00</td>\n",
       "      <td>True</td>\n",
       "      <td>NaN</td>\n",
       "      <td>NaN</td>\n",
       "      <td>1</td>\n",
       "      <td>10000</td>\n",
       "      <td>ID_R4T8Q46J</td>\n",
       "      <td>ID_u02b0hl6</td>\n",
       "    </tr>\n",
       "    <tr>\n",
       "      <th>312</th>\n",
       "      <td>2021-11-30 10:51:36.702996+00</td>\n",
       "      <td>POA</td>\n",
       "      <td>Data &amp; WiFi</td>\n",
       "      <td>1500</td>\n",
       "      <td>2021-07-21 17:46:00+00</td>\n",
       "      <td>False</td>\n",
       "      <td>NaN</td>\n",
       "      <td>NaN</td>\n",
       "      <td>1</td>\n",
       "      <td>10000</td>\n",
       "      <td>ID_R4T8Q46J</td>\n",
       "      <td>ID_uvhgthza</td>\n",
       "    </tr>\n",
       "    <tr>\n",
       "      <th>361</th>\n",
       "      <td>2021-11-30 10:51:36.702996+00</td>\n",
       "      <td>MIRIAM  MUNGAI</td>\n",
       "      <td>Family &amp; Friends</td>\n",
       "      <td>1600</td>\n",
       "      <td>2021-06-11 18:25:00+00</td>\n",
       "      <td>True</td>\n",
       "      <td>NaN</td>\n",
       "      <td>NaN</td>\n",
       "      <td>1</td>\n",
       "      <td>10000</td>\n",
       "      <td>ID_R4T8Q46J</td>\n",
       "      <td>ID_yxz5etfz</td>\n",
       "    </tr>\n",
       "  </tbody>\n",
       "</table>\n",
       "</div>"
      ],
      "text/plain": [
       "           MERCHANT_CATEGORIZED_AT     MERCHANT_NAME MERCHANT_CATEGORIZED_AS  \\\n",
       "35   2021-11-30 10:51:36.702996+00  IDEAL APPLIANCES            Bills & Fees   \n",
       "137  2021-11-30 10:52:38.553994+00        QUICK MART                Shopping   \n",
       "280  2021-08-06 11:28:03.723042+00    EQUITY PAYBILL                Shopping   \n",
       "309  2021-11-30 10:52:38.553994+00    NAOMI  WANJOHI        Family & Friends   \n",
       "312  2021-11-30 10:51:36.702996+00               POA             Data & WiFi   \n",
       "361  2021-11-30 10:51:36.702996+00    MIRIAM  MUNGAI        Family & Friends   \n",
       "\n",
       "     PURCHASE_VALUE            PURCHASED_AT  \\\n",
       "35            24995  2021-05-06 14:14:00+00   \n",
       "137            3298  2021-06-19 15:05:00+00   \n",
       "280            4000  2021-07-25 10:54:00+00   \n",
       "309            1028  2021-05-13 14:28:00+00   \n",
       "312            1500  2021-07-21 17:46:00+00   \n",
       "361            1600  2021-06-11 18:25:00+00   \n",
       "\n",
       "     IS_PURCHASE_PAID_VIA_MPESA_SEND_MONEY  USER_AGE USER_GENDER  \\\n",
       "35                                   False       NaN         NaN   \n",
       "137                                  False       NaN         NaN   \n",
       "280                                   True       NaN         NaN   \n",
       "309                                   True       NaN         NaN   \n",
       "312                                  False       NaN         NaN   \n",
       "361                                   True       NaN         NaN   \n",
       "\n",
       "     USER_HOUSEHOLD  USER_INCOME      USER_ID Transaction_ID  \n",
       "35                1        10000  ID_R4T8Q46J    ID_3xlptxy6  \n",
       "137               1        10000  ID_R4T8Q46J    ID_dhp3d403  \n",
       "280               1        10000  ID_R4T8Q46J    ID_qvgzrt0r  \n",
       "309               1        10000  ID_R4T8Q46J    ID_u02b0hl6  \n",
       "312               1        10000  ID_R4T8Q46J    ID_uvhgthza  \n",
       "361               1        10000  ID_R4T8Q46J    ID_yxz5etfz  "
      ]
     },
     "execution_count": 9,
     "metadata": {},
     "output_type": "execute_result"
    }
   ],
   "source": [
    "train[train['USER_GENDER'].isnull()]"
   ]
  },
  {
   "cell_type": "code",
   "execution_count": 10,
   "metadata": {},
   "outputs": [
    {
     "data": {
      "text/html": [
       "<div>\n",
       "<style scoped>\n",
       "    .dataframe tbody tr th:only-of-type {\n",
       "        vertical-align: middle;\n",
       "    }\n",
       "\n",
       "    .dataframe tbody tr th {\n",
       "        vertical-align: top;\n",
       "    }\n",
       "\n",
       "    .dataframe thead th {\n",
       "        text-align: right;\n",
       "    }\n",
       "</style>\n",
       "<table border=\"1\" class=\"dataframe\">\n",
       "  <thead>\n",
       "    <tr style=\"text-align: right;\">\n",
       "      <th></th>\n",
       "      <th>MERCHANT_CATEGORIZED_AT</th>\n",
       "      <th>MERCHANT_NAME</th>\n",
       "      <th>PURCHASE_VALUE</th>\n",
       "      <th>PURCHASED_AT</th>\n",
       "      <th>IS_PURCHASE_PAID_VIA_MPESA_SEND_MONEY</th>\n",
       "      <th>USER_AGE</th>\n",
       "      <th>USER_GENDER</th>\n",
       "      <th>USER_HOUSEHOLD</th>\n",
       "      <th>USER_INCOME</th>\n",
       "      <th>USER_ID</th>\n",
       "      <th>Transaction_ID</th>\n",
       "    </tr>\n",
       "  </thead>\n",
       "  <tbody>\n",
       "    <tr>\n",
       "      <th>124</th>\n",
       "      <td>2021-08-06 11:28:16.857538+00</td>\n",
       "      <td>ACCESS AFYA</td>\n",
       "      <td>1</td>\n",
       "      <td>2021-08-05 09:32:00+00</td>\n",
       "      <td>False</td>\n",
       "      <td>NaN</td>\n",
       "      <td>NaN</td>\n",
       "      <td>1</td>\n",
       "      <td>10000</td>\n",
       "      <td>ID_R4T8Q46J</td>\n",
       "      <td>ID_8oyhw5j0</td>\n",
       "    </tr>\n",
       "    <tr>\n",
       "      <th>138</th>\n",
       "      <td>2021-11-30 10:51:36.702996+00</td>\n",
       "      <td>PETER  INDIMULI</td>\n",
       "      <td>1028</td>\n",
       "      <td>2021-04-08 12:07:00+00</td>\n",
       "      <td>True</td>\n",
       "      <td>NaN</td>\n",
       "      <td>NaN</td>\n",
       "      <td>1</td>\n",
       "      <td>10000</td>\n",
       "      <td>ID_R4T8Q46J</td>\n",
       "      <td>ID_9au0g3qv</td>\n",
       "    </tr>\n",
       "    <tr>\n",
       "      <th>374</th>\n",
       "      <td>2021-11-30 10:51:36.702996+00</td>\n",
       "      <td>MICHELLE  RODROT</td>\n",
       "      <td>827</td>\n",
       "      <td>2021-07-22 13:36:00+00</td>\n",
       "      <td>True</td>\n",
       "      <td>NaN</td>\n",
       "      <td>NaN</td>\n",
       "      <td>1</td>\n",
       "      <td>10000</td>\n",
       "      <td>ID_R4T8Q46J</td>\n",
       "      <td>ID_p5ajidvp</td>\n",
       "    </tr>\n",
       "    <tr>\n",
       "      <th>395</th>\n",
       "      <td>2021-11-30 10:51:36.702996+00</td>\n",
       "      <td>DORCAS  WANJOHI</td>\n",
       "      <td>2600</td>\n",
       "      <td>2021-06-07 14:05:00+00</td>\n",
       "      <td>True</td>\n",
       "      <td>NaN</td>\n",
       "      <td>NaN</td>\n",
       "      <td>1</td>\n",
       "      <td>10000</td>\n",
       "      <td>ID_R4T8Q46J</td>\n",
       "      <td>ID_qd7dgqor</td>\n",
       "    </tr>\n",
       "    <tr>\n",
       "      <th>550</th>\n",
       "      <td>2021-11-30 10:52:38.553994+00</td>\n",
       "      <td>POA</td>\n",
       "      <td>1500</td>\n",
       "      <td>2021-05-22 19:11:00+00</td>\n",
       "      <td>False</td>\n",
       "      <td>NaN</td>\n",
       "      <td>NaN</td>\n",
       "      <td>1</td>\n",
       "      <td>10000</td>\n",
       "      <td>ID_R4T8Q46J</td>\n",
       "      <td>ID_zqi8lti6</td>\n",
       "    </tr>\n",
       "  </tbody>\n",
       "</table>\n",
       "</div>"
      ],
      "text/plain": [
       "           MERCHANT_CATEGORIZED_AT     MERCHANT_NAME  PURCHASE_VALUE  \\\n",
       "124  2021-08-06 11:28:16.857538+00       ACCESS AFYA               1   \n",
       "138  2021-11-30 10:51:36.702996+00   PETER  INDIMULI            1028   \n",
       "374  2021-11-30 10:51:36.702996+00  MICHELLE  RODROT             827   \n",
       "395  2021-11-30 10:51:36.702996+00   DORCAS  WANJOHI            2600   \n",
       "550  2021-11-30 10:52:38.553994+00               POA            1500   \n",
       "\n",
       "               PURCHASED_AT  IS_PURCHASE_PAID_VIA_MPESA_SEND_MONEY  USER_AGE  \\\n",
       "124  2021-08-05 09:32:00+00                                  False       NaN   \n",
       "138  2021-04-08 12:07:00+00                                   True       NaN   \n",
       "374  2021-07-22 13:36:00+00                                   True       NaN   \n",
       "395  2021-06-07 14:05:00+00                                   True       NaN   \n",
       "550  2021-05-22 19:11:00+00                                  False       NaN   \n",
       "\n",
       "    USER_GENDER  USER_HOUSEHOLD  USER_INCOME      USER_ID Transaction_ID  \n",
       "124         NaN               1        10000  ID_R4T8Q46J    ID_8oyhw5j0  \n",
       "138         NaN               1        10000  ID_R4T8Q46J    ID_9au0g3qv  \n",
       "374         NaN               1        10000  ID_R4T8Q46J    ID_p5ajidvp  \n",
       "395         NaN               1        10000  ID_R4T8Q46J    ID_qd7dgqor  \n",
       "550         NaN               1        10000  ID_R4T8Q46J    ID_zqi8lti6  "
      ]
     },
     "execution_count": 10,
     "metadata": {},
     "output_type": "execute_result"
    }
   ],
   "source": [
    "test[test['USER_GENDER'].isnull()]"
   ]
  },
  {
   "cell_type": "code",
   "execution_count": 11,
   "metadata": {},
   "outputs": [
    {
     "data": {
      "text/plain": [
       "Male      197\n",
       "Female    170\n",
       "Name: USER_GENDER, dtype: int64"
      ]
     },
     "execution_count": 11,
     "metadata": {},
     "output_type": "execute_result"
    }
   ],
   "source": [
    "train.USER_GENDER.value_counts()"
   ]
  },
  {
   "cell_type": "code",
   "execution_count": 12,
   "metadata": {},
   "outputs": [
    {
     "data": {
      "text/plain": [
       "Male      307\n",
       "Female    246\n",
       "Name: USER_GENDER, dtype: int64"
      ]
     },
     "execution_count": 12,
     "metadata": {},
     "output_type": "execute_result"
    }
   ],
   "source": [
    "test.USER_GENDER.value_counts()"
   ]
  },
  {
   "cell_type": "code",
   "execution_count": 13,
   "metadata": {},
   "outputs": [],
   "source": [
    "train[\"USER_GENDER\"] = train[\"USER_GENDER\"].apply(lambda x: \"Male\" if pd.isna(x) else x)\n",
    "test[\"USER_GENDER\"] = test[\"USER_GENDER\"].apply(lambda x: \"Male\" if pd.isna(x) else x)"
   ]
  },
  {
   "cell_type": "code",
   "execution_count": 14,
   "metadata": {},
   "outputs": [],
   "source": [
    "# Impute the missing age entries with the median of that column\n",
    "train_median_value = np.median(train['USER_AGE'].dropna())\n",
    "train['USER_AGE'] = train['USER_AGE'].fillna(train_median_value)\n",
    "\n",
    "test_median_value = np.median(test['USER_AGE'].dropna())\n",
    "test['USER_AGE'] = test['USER_AGE'].fillna(test_median_value)"
   ]
  },
  {
   "cell_type": "code",
   "execution_count": null,
   "metadata": {},
   "outputs": [],
   "source": []
  },
  {
   "cell_type": "code",
   "execution_count": 15,
   "metadata": {},
   "outputs": [],
   "source": [
    "train[\"train\"] = 1\n",
    "test[\"train\"] = 0"
   ]
  },
  {
   "cell_type": "code",
   "execution_count": 16,
   "metadata": {},
   "outputs": [],
   "source": [
    "all_data = pd.concat([train, test])"
   ]
  },
  {
   "cell_type": "code",
   "execution_count": 17,
   "metadata": {},
   "outputs": [],
   "source": [
    "all_data = pd.get_dummies(all_data, prefix_sep=\"_\", columns=['MERCHANT_NAME'])"
   ]
  },
  {
   "cell_type": "code",
   "execution_count": 18,
   "metadata": {},
   "outputs": [],
   "source": [
    "train = all_data[all_data[\"train\"] == 1]\n",
    "test = all_data[all_data[\"train\"] == 0]"
   ]
  },
  {
   "cell_type": "code",
   "execution_count": 19,
   "metadata": {},
   "outputs": [
    {
     "name": "stdout",
     "output_type": "stream",
     "text": [
      "Train:  (373, 452)\n",
      "Test:  (558, 452)\n"
     ]
    }
   ],
   "source": [
    "print(\"Train: \", train.shape)\n",
    "print(\"Test: \", test.shape)"
   ]
  },
  {
   "cell_type": "code",
   "execution_count": 20,
   "metadata": {},
   "outputs": [],
   "source": [
    "train = train.drop(['MERCHANT_CATEGORIZED_AT','PURCHASED_AT','USER_ID', 'Transaction_ID', \"train\"], axis=1)\n",
    "test = test.drop(['MERCHANT_CATEGORIZED_AT','PURCHASED_AT','USER_ID', \"train\", \"MERCHANT_CATEGORIZED_AS\"], axis=1)"
   ]
  },
  {
   "cell_type": "code",
   "execution_count": 21,
   "metadata": {},
   "outputs": [],
   "source": [
    "# Based on our data set, this function converts boolean to binary entries\n",
    "def create_binary_cols(content):\n",
    "  if content == False:\n",
    "    content = 0\n",
    "  elif content == True:\n",
    "    content = 1\n",
    "  elif content == 'N':\n",
    "    content = 0\n",
    "  elif content == 'Y':\n",
    "    content = 1\n",
    "  elif content == 'Male':\n",
    "    content = 0\n",
    "  elif content == 'Female':\n",
    "    content = 1\n",
    "  return content"
   ]
  },
  {
   "cell_type": "code",
   "execution_count": 22,
   "metadata": {},
   "outputs": [],
   "source": [
    "# Gender column convert:\n",
    "train['USER_GENDER'] = train['USER_GENDER'].apply(create_binary_cols)\n",
    "test['USER_GENDER'] = test['USER_GENDER'].apply(create_binary_cols)\n",
    "\n",
    "# Is_purchase_paid_via_mpesa_send_money column convert:\n",
    "train['IS_PURCHASE_PAID_VIA_MPESA_SEND_MONEY'] = train['IS_PURCHASE_PAID_VIA_MPESA_SEND_MONEY'].apply(create_binary_cols)\n",
    "test['IS_PURCHASE_PAID_VIA_MPESA_SEND_MONEY'] = test['IS_PURCHASE_PAID_VIA_MPESA_SEND_MONEY'].apply(create_binary_cols)"
   ]
  },
  {
   "cell_type": "code",
   "execution_count": 23,
   "metadata": {},
   "outputs": [],
   "source": [
    "# Separate the features from the target in the training data\n",
    "X = train.drop([\"MERCHANT_CATEGORIZED_AS\"], axis=1)\n",
    "y = train[\"MERCHANT_CATEGORIZED_AS\"]"
   ]
  },
  {
   "cell_type": "code",
   "execution_count": 48,
   "metadata": {},
   "outputs": [],
   "source": [
    "from imblearn.over_sampling import SMOTE, ADASYN\n",
    "\n",
    "X_resampled, y_resampled = SMOTE(k_neighbors=1).fit_resample(X, y)"
   ]
  },
  {
   "cell_type": "code",
   "execution_count": 24,
   "metadata": {},
   "outputs": [],
   "source": [
    "X_train, X_val, y_train, y_val = train_test_split(X, y, test_size=0.1, random_state=101)"
   ]
  },
  {
   "cell_type": "code",
   "execution_count": 25,
   "metadata": {},
   "outputs": [
    {
     "name": "stdout",
     "output_type": "stream",
     "text": [
      "ACCURACY OF THE MODEL:  0.34210526315789475\n",
      "                  precision    recall  f1-score   support\n",
      "\n",
      "    Bills & Fees       0.36      0.67      0.47         6\n",
      "     Data & WiFi       1.00      0.50      0.67         4\n",
      "Family & Friends       0.00      0.00      0.00         6\n",
      "       Going out       0.29      0.50      0.36         4\n",
      "       Groceries       0.28      0.83      0.42         6\n",
      "          Health       0.00      0.00      0.00         1\n",
      "   Miscellaneous       0.00      0.00      0.00         4\n",
      "        Shopping       0.00      0.00      0.00         3\n",
      "Transport & Fuel       0.00      0.00      0.00         4\n",
      "\n",
      "        accuracy                           0.34        38\n",
      "       macro avg       0.21      0.28      0.21        38\n",
      "    weighted avg       0.24      0.34      0.25        38\n",
      "\n"
     ]
    },
    {
     "name": "stderr",
     "output_type": "stream",
     "text": [
      "/Users/da_m1_40_/anaconda3/lib/python3.10/site-packages/sklearn/metrics/_classification.py:1344: UndefinedMetricWarning: Precision and F-score are ill-defined and being set to 0.0 in labels with no predicted samples. Use `zero_division` parameter to control this behavior.\n",
      "  _warn_prf(average, modifier, msg_start, len(result))\n",
      "/Users/da_m1_40_/anaconda3/lib/python3.10/site-packages/sklearn/metrics/_classification.py:1344: UndefinedMetricWarning: Precision and F-score are ill-defined and being set to 0.0 in labels with no predicted samples. Use `zero_division` parameter to control this behavior.\n",
      "  _warn_prf(average, modifier, msg_start, len(result))\n",
      "/Users/da_m1_40_/anaconda3/lib/python3.10/site-packages/sklearn/metrics/_classification.py:1344: UndefinedMetricWarning: Precision and F-score are ill-defined and being set to 0.0 in labels with no predicted samples. Use `zero_division` parameter to control this behavior.\n",
      "  _warn_prf(average, modifier, msg_start, len(result))\n"
     ]
    }
   ],
   "source": [
    "# Creating a Decision tree classifier\n",
    "model_dtree = DecisionTreeClassifier(max_depth=5, random_state=101,\n",
    "                                     max_features = None, min_samples_leaf=8)\n",
    "\n",
    "# Training the model on the training dataset\n",
    "model_dtree.fit(X_train, y_train)\n",
    "\n",
    "# Predict\n",
    "y_pred = model_dtree.predict(X_val)\n",
    "\n",
    "# Calculate accuracy\n",
    "print(\"ACCURACY OF THE MODEL: \", accuracy_score(y_val, y_pred))\n",
    "\n",
    "# Classification report\n",
    "print(classification_report(y_val, y_pred))"
   ]
  },
  {
   "cell_type": "code",
   "execution_count": 26,
   "metadata": {},
   "outputs": [
    {
     "name": "stdout",
     "output_type": "stream",
     "text": [
      "ACCURACY OF THE MODEL:  0.6052631578947368\n",
      "                  precision    recall  f1-score   support\n",
      "\n",
      "    Bills & Fees       0.62      0.83      0.71         6\n",
      "     Data & WiFi       1.00      1.00      1.00         4\n",
      "  Emergency fund       0.00      0.00      0.00         0\n",
      "Family & Friends       0.80      0.67      0.73         6\n",
      "       Going out       0.40      0.50      0.44         4\n",
      "       Groceries       0.29      0.33      0.31         6\n",
      "          Health       0.00      0.00      0.00         1\n",
      "   Miscellaneous       1.00      0.50      0.67         4\n",
      "        Shopping       1.00      0.33      0.50         3\n",
      "Transport & Fuel       0.60      0.75      0.67         4\n",
      "\n",
      "        accuracy                           0.61        38\n",
      "       macro avg       0.57      0.49      0.50        38\n",
      "    weighted avg       0.66      0.61      0.61        38\n",
      "\n"
     ]
    },
    {
     "name": "stderr",
     "output_type": "stream",
     "text": [
      "/Users/da_m1_40_/anaconda3/lib/python3.10/site-packages/sklearn/metrics/_classification.py:1344: UndefinedMetricWarning: Precision and F-score are ill-defined and being set to 0.0 in labels with no predicted samples. Use `zero_division` parameter to control this behavior.\n",
      "  _warn_prf(average, modifier, msg_start, len(result))\n",
      "/Users/da_m1_40_/anaconda3/lib/python3.10/site-packages/sklearn/metrics/_classification.py:1344: UndefinedMetricWarning: Recall and F-score are ill-defined and being set to 0.0 in labels with no true samples. Use `zero_division` parameter to control this behavior.\n",
      "  _warn_prf(average, modifier, msg_start, len(result))\n",
      "/Users/da_m1_40_/anaconda3/lib/python3.10/site-packages/sklearn/metrics/_classification.py:1344: UndefinedMetricWarning: Precision and F-score are ill-defined and being set to 0.0 in labels with no predicted samples. Use `zero_division` parameter to control this behavior.\n",
      "  _warn_prf(average, modifier, msg_start, len(result))\n",
      "/Users/da_m1_40_/anaconda3/lib/python3.10/site-packages/sklearn/metrics/_classification.py:1344: UndefinedMetricWarning: Recall and F-score are ill-defined and being set to 0.0 in labels with no true samples. Use `zero_division` parameter to control this behavior.\n",
      "  _warn_prf(average, modifier, msg_start, len(result))\n",
      "/Users/da_m1_40_/anaconda3/lib/python3.10/site-packages/sklearn/metrics/_classification.py:1344: UndefinedMetricWarning: Precision and F-score are ill-defined and being set to 0.0 in labels with no predicted samples. Use `zero_division` parameter to control this behavior.\n",
      "  _warn_prf(average, modifier, msg_start, len(result))\n",
      "/Users/da_m1_40_/anaconda3/lib/python3.10/site-packages/sklearn/metrics/_classification.py:1344: UndefinedMetricWarning: Recall and F-score are ill-defined and being set to 0.0 in labels with no true samples. Use `zero_division` parameter to control this behavior.\n",
      "  _warn_prf(average, modifier, msg_start, len(result))\n"
     ]
    }
   ],
   "source": [
    "from sklearn.ensemble import RandomForestClassifier\n",
    "\n",
    "# Creating a RF classifier\n",
    "clf = RandomForestClassifier() \n",
    " \n",
    "# Training the model on the training dataset\n",
    "clf.fit(X_train, y_train)\n",
    " \n",
    "# Performing predictions on the test dataset\n",
    "y_pred = clf.predict(X_val)\n",
    "\n",
    "# Calculate accuracy\n",
    "print(\"ACCURACY OF THE MODEL: \", accuracy_score(y_val, y_pred))\n",
    "\n",
    "# Classification report\n",
    "print(classification_report(y_val, y_pred))\n"
   ]
  },
  {
   "cell_type": "code",
   "execution_count": 27,
   "metadata": {},
   "outputs": [],
   "source": [
    "train_data_corr.replace(replace_map_train, inplace=True)"
   ]
  },
  {
   "cell_type": "code",
   "execution_count": 28,
   "metadata": {},
   "outputs": [],
   "source": [
    "X = train.drop([\"MERCHANT_CATEGORIZED_AS\"], axis=1)\n",
    "y = train_data_corr[\"MERCHANT_CATEGORIZED_AS\"]\n",
    "\n",
    "X_train, X_val, y_train, y_val = train_test_split(X, y, test_size=0.1, random_state=101)"
   ]
  },
  {
   "cell_type": "code",
   "execution_count": 29,
   "metadata": {},
   "outputs": [
    {
     "data": {
      "text/html": [
       "<style>#sk-container-id-1 {color: black;background-color: white;}#sk-container-id-1 pre{padding: 0;}#sk-container-id-1 div.sk-toggleable {background-color: white;}#sk-container-id-1 label.sk-toggleable__label {cursor: pointer;display: block;width: 100%;margin-bottom: 0;padding: 0.3em;box-sizing: border-box;text-align: center;}#sk-container-id-1 label.sk-toggleable__label-arrow:before {content: \"▸\";float: left;margin-right: 0.25em;color: #696969;}#sk-container-id-1 label.sk-toggleable__label-arrow:hover:before {color: black;}#sk-container-id-1 div.sk-estimator:hover label.sk-toggleable__label-arrow:before {color: black;}#sk-container-id-1 div.sk-toggleable__content {max-height: 0;max-width: 0;overflow: hidden;text-align: left;background-color: #f0f8ff;}#sk-container-id-1 div.sk-toggleable__content pre {margin: 0.2em;color: black;border-radius: 0.25em;background-color: #f0f8ff;}#sk-container-id-1 input.sk-toggleable__control:checked~div.sk-toggleable__content {max-height: 200px;max-width: 100%;overflow: auto;}#sk-container-id-1 input.sk-toggleable__control:checked~label.sk-toggleable__label-arrow:before {content: \"▾\";}#sk-container-id-1 div.sk-estimator input.sk-toggleable__control:checked~label.sk-toggleable__label {background-color: #d4ebff;}#sk-container-id-1 div.sk-label input.sk-toggleable__control:checked~label.sk-toggleable__label {background-color: #d4ebff;}#sk-container-id-1 input.sk-hidden--visually {border: 0;clip: rect(1px 1px 1px 1px);clip: rect(1px, 1px, 1px, 1px);height: 1px;margin: -1px;overflow: hidden;padding: 0;position: absolute;width: 1px;}#sk-container-id-1 div.sk-estimator {font-family: monospace;background-color: #f0f8ff;border: 1px dotted black;border-radius: 0.25em;box-sizing: border-box;margin-bottom: 0.5em;}#sk-container-id-1 div.sk-estimator:hover {background-color: #d4ebff;}#sk-container-id-1 div.sk-parallel-item::after {content: \"\";width: 100%;border-bottom: 1px solid gray;flex-grow: 1;}#sk-container-id-1 div.sk-label:hover label.sk-toggleable__label {background-color: #d4ebff;}#sk-container-id-1 div.sk-serial::before {content: \"\";position: absolute;border-left: 1px solid gray;box-sizing: border-box;top: 0;bottom: 0;left: 50%;z-index: 0;}#sk-container-id-1 div.sk-serial {display: flex;flex-direction: column;align-items: center;background-color: white;padding-right: 0.2em;padding-left: 0.2em;position: relative;}#sk-container-id-1 div.sk-item {position: relative;z-index: 1;}#sk-container-id-1 div.sk-parallel {display: flex;align-items: stretch;justify-content: center;background-color: white;position: relative;}#sk-container-id-1 div.sk-item::before, #sk-container-id-1 div.sk-parallel-item::before {content: \"\";position: absolute;border-left: 1px solid gray;box-sizing: border-box;top: 0;bottom: 0;left: 50%;z-index: -1;}#sk-container-id-1 div.sk-parallel-item {display: flex;flex-direction: column;z-index: 1;position: relative;background-color: white;}#sk-container-id-1 div.sk-parallel-item:first-child::after {align-self: flex-end;width: 50%;}#sk-container-id-1 div.sk-parallel-item:last-child::after {align-self: flex-start;width: 50%;}#sk-container-id-1 div.sk-parallel-item:only-child::after {width: 0;}#sk-container-id-1 div.sk-dashed-wrapped {border: 1px dashed gray;margin: 0 0.4em 0.5em 0.4em;box-sizing: border-box;padding-bottom: 0.4em;background-color: white;}#sk-container-id-1 div.sk-label label {font-family: monospace;font-weight: bold;display: inline-block;line-height: 1.2em;}#sk-container-id-1 div.sk-label-container {text-align: center;}#sk-container-id-1 div.sk-container {/* jupyter's `normalize.less` sets `[hidden] { display: none; }` but bootstrap.min.css set `[hidden] { display: none !important; }` so we also need the `!important` here to be able to override the default hidden behavior on the sphinx rendered scikit-learn.org. See: https://github.com/scikit-learn/scikit-learn/issues/21755 */display: inline-block !important;position: relative;}#sk-container-id-1 div.sk-text-repr-fallback {display: none;}</style><div id=\"sk-container-id-1\" class=\"sk-top-container\"><div class=\"sk-text-repr-fallback\"><pre>XGBClassifier(base_score=None, booster=None, callbacks=None,\n",
       "              colsample_bylevel=None, colsample_bynode=None,\n",
       "              colsample_bytree=None, early_stopping_rounds=None,\n",
       "              enable_categorical=False, eval_metric=None, feature_types=None,\n",
       "              gamma=None, gpu_id=None, grow_policy=None, importance_type=None,\n",
       "              interaction_constraints=None, learning_rate=None, max_bin=None,\n",
       "              max_cat_threshold=None, max_cat_to_onehot=None,\n",
       "              max_delta_step=None, max_depth=None, max_leaves=None,\n",
       "              min_child_weight=None, missing=nan, monotone_constraints=None,\n",
       "              n_estimators=100, n_jobs=None, num_parallel_tree=None,\n",
       "              objective=&#x27;multi:softprob&#x27;, predictor=None, ...)</pre><b>In a Jupyter environment, please rerun this cell to show the HTML representation or trust the notebook. <br />On GitHub, the HTML representation is unable to render, please try loading this page with nbviewer.org.</b></div><div class=\"sk-container\" hidden><div class=\"sk-item\"><div class=\"sk-estimator sk-toggleable\"><input class=\"sk-toggleable__control sk-hidden--visually\" id=\"sk-estimator-id-1\" type=\"checkbox\" checked><label for=\"sk-estimator-id-1\" class=\"sk-toggleable__label sk-toggleable__label-arrow\">XGBClassifier</label><div class=\"sk-toggleable__content\"><pre>XGBClassifier(base_score=None, booster=None, callbacks=None,\n",
       "              colsample_bylevel=None, colsample_bynode=None,\n",
       "              colsample_bytree=None, early_stopping_rounds=None,\n",
       "              enable_categorical=False, eval_metric=None, feature_types=None,\n",
       "              gamma=None, gpu_id=None, grow_policy=None, importance_type=None,\n",
       "              interaction_constraints=None, learning_rate=None, max_bin=None,\n",
       "              max_cat_threshold=None, max_cat_to_onehot=None,\n",
       "              max_delta_step=None, max_depth=None, max_leaves=None,\n",
       "              min_child_weight=None, missing=nan, monotone_constraints=None,\n",
       "              n_estimators=100, n_jobs=None, num_parallel_tree=None,\n",
       "              objective=&#x27;multi:softprob&#x27;, predictor=None, ...)</pre></div></div></div></div></div>"
      ],
      "text/plain": [
       "XGBClassifier(base_score=None, booster=None, callbacks=None,\n",
       "              colsample_bylevel=None, colsample_bynode=None,\n",
       "              colsample_bytree=None, early_stopping_rounds=None,\n",
       "              enable_categorical=False, eval_metric=None, feature_types=None,\n",
       "              gamma=None, gpu_id=None, grow_policy=None, importance_type=None,\n",
       "              interaction_constraints=None, learning_rate=None, max_bin=None,\n",
       "              max_cat_threshold=None, max_cat_to_onehot=None,\n",
       "              max_delta_step=None, max_depth=None, max_leaves=None,\n",
       "              min_child_weight=None, missing=nan, monotone_constraints=None,\n",
       "              n_estimators=100, n_jobs=None, num_parallel_tree=None,\n",
       "              objective='multi:softprob', predictor=None, ...)"
      ]
     },
     "execution_count": 29,
     "metadata": {},
     "output_type": "execute_result"
    }
   ],
   "source": [
    "model = XGBClassifier()\n",
    "model.fit(X_train, y_train)"
   ]
  },
  {
   "cell_type": "code",
   "execution_count": 30,
   "metadata": {},
   "outputs": [],
   "source": [
    "expected_y  = y_val\n",
    "predicted_y = model.predict(X_val)"
   ]
  },
  {
   "cell_type": "code",
   "execution_count": 38,
   "metadata": {},
   "outputs": [
    {
     "name": "stdout",
     "output_type": "stream",
     "text": [
      "              precision    recall  f1-score   support\n",
      "\n",
      "           0       0.50      1.00      0.67         6\n",
      "           1       0.80      1.00      0.89         4\n",
      "           4       1.00      0.50      0.67         6\n",
      "           5       0.33      0.25      0.29         4\n",
      "           6       0.29      0.33      0.31         6\n",
      "           7       0.00      0.00      0.00         1\n",
      "           9       0.67      0.50      0.57         4\n",
      "          11       0.00      0.00      0.00         3\n",
      "          12       0.60      0.75      0.67         4\n",
      "\n",
      "    accuracy                           0.55        38\n",
      "   macro avg       0.47      0.48      0.45        38\n",
      "weighted avg       0.53      0.55      0.51        38\n",
      "\n",
      "0.5526315789473685\n"
     ]
    },
    {
     "name": "stderr",
     "output_type": "stream",
     "text": [
      "/Users/da_m1_40_/anaconda3/lib/python3.10/site-packages/sklearn/metrics/_classification.py:1344: UndefinedMetricWarning: Precision and F-score are ill-defined and being set to 0.0 in labels with no predicted samples. Use `zero_division` parameter to control this behavior.\n",
      "  _warn_prf(average, modifier, msg_start, len(result))\n",
      "/Users/da_m1_40_/anaconda3/lib/python3.10/site-packages/sklearn/metrics/_classification.py:1344: UndefinedMetricWarning: Precision and F-score are ill-defined and being set to 0.0 in labels with no predicted samples. Use `zero_division` parameter to control this behavior.\n",
      "  _warn_prf(average, modifier, msg_start, len(result))\n",
      "/Users/da_m1_40_/anaconda3/lib/python3.10/site-packages/sklearn/metrics/_classification.py:1344: UndefinedMetricWarning: Precision and F-score are ill-defined and being set to 0.0 in labels with no predicted samples. Use `zero_division` parameter to control this behavior.\n",
      "  _warn_prf(average, modifier, msg_start, len(result))\n"
     ]
    }
   ],
   "source": [
    "print(classification_report(expected_y, predicted_y))\n",
    "print(accuracy_score(y_val, predicted_y))"
   ]
  },
  {
   "cell_type": "code",
   "execution_count": 32,
   "metadata": {},
   "outputs": [
    {
     "data": {
      "text/plain": [
       "<Axes: xlabel='MERCHANT_CATEGORIZED_AS'>"
      ]
     },
     "execution_count": 32,
     "metadata": {},
     "output_type": "execute_result"
    },
    {
     "data": {
      "image/png": "[encoded data removed]",
      "text/plain": [
       "<Figure size 1000x1000 with 1 Axes>"
      ]
     },
     "metadata": {},
     "output_type": "display_data"
    }
   ],
   "source": [
    "plt.figure(figsize=(10,10))\n",
    "sns.regplot(x=expected_y, y=predicted_y, fit_reg=True, scatter_kws={\"s\": 100})"
   ]
  },
  {
   "cell_type": "code",
   "execution_count": 33,
   "metadata": {},
   "outputs": [],
   "source": [
    "# Get the predicted result for the test Data\n",
    "predictions = clf.predict(test.drop(\"Transaction_ID\", axis=1))"
   ]
  },
  {
   "cell_type": "code",
   "execution_count": 34,
   "metadata": {},
   "outputs": [],
   "source": [
    "test[\"predictions\"] = predictions"
   ]
  },
  {
   "cell_type": "code",
   "execution_count": 35,
   "metadata": {},
   "outputs": [
    {
     "data": {
      "text/html": [
       "<div>\n",
       "<style scoped>\n",
       "    .dataframe tbody tr th:only-of-type {\n",
       "        vertical-align: middle;\n",
       "    }\n",
       "\n",
       "    .dataframe tbody tr th {\n",
       "        vertical-align: top;\n",
       "    }\n",
       "\n",
       "    .dataframe thead th {\n",
       "        text-align: right;\n",
       "    }\n",
       "</style>\n",
       "<table border=\"1\" class=\"dataframe\">\n",
       "  <thead>\n",
       "    <tr style=\"text-align: right;\">\n",
       "      <th></th>\n",
       "      <th>Transaction_ID</th>\n",
       "      <th>predictions</th>\n",
       "    </tr>\n",
       "  </thead>\n",
       "  <tbody>\n",
       "    <tr>\n",
       "      <th>0</th>\n",
       "      <td>ID_00x9h2yx</td>\n",
       "      <td>Emergency fund</td>\n",
       "    </tr>\n",
       "    <tr>\n",
       "      <th>1</th>\n",
       "      <td>ID_01db594f</td>\n",
       "      <td>Going out</td>\n",
       "    </tr>\n",
       "    <tr>\n",
       "      <th>2</th>\n",
       "      <td>ID_07pm99no</td>\n",
       "      <td>Miscellaneous</td>\n",
       "    </tr>\n",
       "    <tr>\n",
       "      <th>3</th>\n",
       "      <td>ID_09jryhkd</td>\n",
       "      <td>Miscellaneous</td>\n",
       "    </tr>\n",
       "    <tr>\n",
       "      <th>4</th>\n",
       "      <td>ID_0ccv924c</td>\n",
       "      <td>Bills &amp; Fees</td>\n",
       "    </tr>\n",
       "  </tbody>\n",
       "</table>\n",
       "</div>"
      ],
      "text/plain": [
       "  Transaction_ID     predictions\n",
       "0    ID_00x9h2yx  Emergency fund\n",
       "1    ID_01db594f       Going out\n",
       "2    ID_07pm99no   Miscellaneous\n",
       "3    ID_09jryhkd   Miscellaneous\n",
       "4    ID_0ccv924c    Bills & Fees"
      ]
     },
     "execution_count": 35,
     "metadata": {},
     "output_type": "execute_result"
    }
   ],
   "source": [
    "test[[\"Transaction_ID\",  \"predictions\"]].head()"
   ]
  },
  {
   "cell_type": "code",
   "execution_count": 36,
   "metadata": {},
   "outputs": [
    {
     "data": {
      "text/plain": [
       "11"
      ]
     },
     "execution_count": 36,
     "metadata": {},
     "output_type": "execute_result"
    }
   ],
   "source": [
    "test[[\"Transaction_ID\",  \"predictions\"]][\"predictions\"].nunique()"
   ]
  }
 ],
 "metadata": {
  "kernelspec": {
   "display_name": "base",
   "language": "python",
   "name": "python3"
  },
  "language_info": {
   "codemirror_mode": {
    "name": "ipython",
    "version": 3
   },
   "file_extension": ".py",
   "mimetype": "text/x-python",
   "name": "python",
   "nbconvert_exporter": "python",
   "pygments_lexer": "ipython3",
   "version": "3.10.9"
  },
  "orig_nbformat": 4
 },
 "nbformat": 4,
 "nbformat_minor": 2
}
